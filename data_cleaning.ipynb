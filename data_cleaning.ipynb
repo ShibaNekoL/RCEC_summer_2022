{
 "cells": [
  {
   "cell_type": "code",
   "execution_count": 11,
   "metadata": {},
   "outputs": [],
   "source": [
    "import pandas as pd\n",
    "import numpy as np\n",
    "import os as os\n",
    "from pathlib import Path"
   ]
  },
  {
   "cell_type": "code",
   "execution_count": 12,
   "metadata": {},
   "outputs": [],
   "source": [
    "pd.set_option('display.max_columns', 200)\n",
    "pd.set_option('display.max_rows', 100)"
   ]
  },
  {
   "cell_type": "markdown",
   "metadata": {},
   "source": [
    "Helper function: *data_raw*  \n",
    "Read data from each txt file in the directory and concat into a long data\n",
    "- input: path of the directory\n",
    "- output: raw data"
   ]
  },
  {
   "cell_type": "code",
   "execution_count": 13,
   "metadata": {},
   "outputs": [],
   "source": [
    "def data_raw(dir_path):\n",
    "\n",
    "    df_list = []\n",
    "\n",
    "    # iterate through all file\n",
    "    for file in os.listdir(dir_path):\n",
    "        # Check whether file is in text format or not\n",
    "        if file.endswith(\".txt\"):\n",
    "\n",
    "            file_path = os.path.join(dir_path, file)\n",
    "            df = pd.read_csv(file_path, encoding='big5', encoding_errors='ignore')\n",
    "\n",
    "            # clean all metadata starting with *\n",
    "            idx = df.iloc[:, 0].str.contains(r'^\\*+')\n",
    "            \n",
    "            df = df[~idx]\n",
    "\n",
    "            # remove the # from header\n",
    "            df.iloc[0, 0] = df.iloc[0, 0].lstrip('# ')\n",
    "\n",
    "            # sep columns by space\n",
    "            df = df.iloc[:, 0].str.split(r'\\s+', expand=True)\n",
    "\n",
    "            # set header with 1st row\n",
    "            new_header = df.iloc[0] #grab the first row for the header\n",
    "            df = df[1:] #take the data less the header row\n",
    "            df.columns = new_header #set the header row as the df header\n",
    "\n",
    "            # append cleaned dataframe to a list\n",
    "            df_list.append(df)\n",
    "\n",
    "    # concat all df into long data\n",
    "    long_data = pd.concat(df_list, axis=0, join='outer')\n",
    "\n",
    "    long_data = long_data.reset_index(drop=True)\n",
    "\n",
    "    return long_data"
   ]
  },
  {
   "cell_type": "markdown",
   "metadata": {},
   "source": [
    "Helper function: *data_cleaned*   \n",
    "1. select the required variables\n",
    "1. clean missing values  \n",
    "1. change time format\n",
    "- input: `data_raw`\n",
    "- output: a cleaned long data"
   ]
  },
  {
   "cell_type": "code",
   "execution_count": 14,
   "metadata": {},
   "outputs": [],
   "source": [
    "def data_cleaned(df):\n",
    "    # selecte required features\n",
    "    df_sub = df[['yyyymmdd', 'stno', 'TX01', 'PP01', 'WD01', 'WD02', 'PS01']]\n",
    "\n",
    "    # convert dtype=object (string) to numeric\n",
    "    df_sub['yyyymmdd'] = df_sub['yyyymmdd'].astype(np.int)\n",
    "    df_sub['stno'] = df_sub['stno'].astype(np.int)\n",
    "    df_sub['TX01'] = df_sub['TX01'].astype(np.float)\n",
    "    df_sub['PP01'] = df_sub['PP01'].astype(np.float)\n",
    "    df_sub['WD01'] = df_sub['WD01'].astype(np.float)\n",
    "    df_sub['WD02'] = df_sub['WD02'].astype(np.float)\n",
    "    df_sub['PS01'] = df_sub['PS01'].astype(np.float)\n",
    "\n",
    "    # replace missing value with np.nan\n",
    "    df_cleaned = (\n",
    "        df_sub\n",
    "        .replace(-9998.0, np.nan)\n",
    "        .replace(-9999.0, np.nan)\n",
    "        .replace(-9997.0, np.nan)\n",
    "    )\n",
    "\n",
    "    # Convert Strings to Datetime\n",
    "    df_cleaned['yyyymmdd'] = pd.to_datetime(df_cleaned['yyyymmdd'], format='%Y%m%d')\n",
    "\n",
    "    return df_cleaned"
   ]
  },
  {
   "cell_type": "markdown",
   "metadata": {},
   "source": [
    "# Put them together  \n",
    "function: long_data_clean\n",
    "- input: dir path\n",
    "- output: df_cleaned"
   ]
  },
  {
   "cell_type": "code",
   "execution_count": 15,
   "metadata": {},
   "outputs": [],
   "source": [
    "def long_data_clean(dp):\n",
    "    df_raw = data_raw(dp)\n",
    "    df_cleaned = data_cleaned(df_raw)\n",
    "    return df_cleaned"
   ]
  },
  {
   "cell_type": "code",
   "execution_count": 19,
   "metadata": {},
   "outputs": [],
   "source": [
    "file_name = 'df_cleaned.pkl'\n",
    "\n",
    "if not Path(file_name).is_file():\n",
    "    dp = Path(\"/archive/Observation/CWB_Station/daily\")\n",
    "    df_cleaned = long_data_clean(dp)\n",
    "    df_cleaned.to_pickle(file_name)\n"
   ]
  }
 ],
 "metadata": {
  "kernelspec": {
   "display_name": "Python 3.9.12 ('RCEC_summer_2022')",
   "language": "python",
   "name": "python3"
  },
  "language_info": {
   "codemirror_mode": {
    "name": "ipython",
    "version": 3
   },
   "file_extension": ".py",
   "mimetype": "text/x-python",
   "name": "python",
   "nbconvert_exporter": "python",
   "pygments_lexer": "ipython3",
   "version": "3.9.12"
  },
  "orig_nbformat": 4,
  "vscode": {
   "interpreter": {
    "hash": "d06bf732966752e4cddbcd5cec68dcecb153862b301bd6be4479907bceab64d2"
   }
  }
 },
 "nbformat": 4,
 "nbformat_minor": 2
}
